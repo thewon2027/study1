{
  "nbformat": 4,
  "nbformat_minor": 0,
  "metadata": {
    "colab": {
      "name": "3강 데이터 전처리",
      "provenance": [],
      "collapsed_sections": [],
      "include_colab_link": true
    },
    "kernelspec": {
      "name": "python3",
      "display_name": "Python 3"
    }
  },
  "cells": [
    {
      "cell_type": "markdown",
      "metadata": {
        "id": "view-in-github",
        "colab_type": "text"
      },
      "source": [
        "<a href=\"https://colab.research.google.com/github/thewon2027/study1/blob/main/3%EA%B0%95_%EB%8D%B0%EC%9D%B4%ED%84%B0_%EC%A0%84%EC%B2%98%EB%A6%AC.ipynb\" target=\"_parent\"><img src=\"https://colab.research.google.com/assets/colab-badge.svg\" alt=\"Open In Colab\"/></a>"
      ]
    },
    {
      "cell_type": "markdown",
      "metadata": {
        "id": "I1NBu40WMAN0"
      },
      "source": [
        "\n",
        "\n",
        "## ✍ 지난 시간 복습하기 (10분 이상 소요)\n",
        "\n",
        "```\n",
        "간단히 지난 시간 강의내용 복습을 진행해주세요 🔥🔥\n",
        "```\n",
        "\n",
        "</br>\n",
        "\n",
        "#🔥 Lesson 3, Deep dive into Titanic Dataset!  \n",
        "🏊🏻‍♀️🏊🏻🏊🏻‍♂️🏊🏻‍♀️🏊🏻🏊🏻‍♂️🏊🏻‍♀️🏊🏻🏊🏻‍♂️🏊🏻‍♀️🏊🏻🏊🏻‍♂️🏊🏻‍♀️🏊🏻🏊🏻‍♂️🏊🏻‍♀️🏊🏻🏊🏻‍♂️🏊🏻‍♀️🏊🏻🏊🏻‍♂️🏊🏻‍♀️🏊🏻🏊🏻‍♂️\n",
        "\n",
        "</br>\n",
        "\n",
        "## ⛳ 무엇을 배우나요?\n",
        "\n",
        "안녕하세요. '🧜🏻‍♀️데이터 다이빙🧜🏻' 여러분!!  \n",
        "오늘은 타이나닉 데이터셋으로 실전 데이터 분석 연습을 할 것입니다 😆😀\n",
        "\n",
        "여태까지 pandas 와 scikit-learn을 이용한 다양한 데이터 분석 기법들을 배웠습니다.  \n",
        "이번 강의에서는 지금까지 배웠던 기법들을 사용하여 **데이터 전처리와 시각화를 복습**하고  \n",
        "데이터에 대한 📈insight를 얻어서 전처리를 다르게 시도하면 **성능에 어떤 차이가 나는지** 알아보겠습니다.\n",
        "\n"
      ]
    },
    {
      "cell_type": "markdown",
      "metadata": {
        "id": "-Fh47FWm4Wnp"
      },
      "source": [
        "##### 🏄 **Tip : 여러분들만의 자료를 구하고 싶다면?!**\n",
        "\n",
        ">- UC 얼바인 자료 저장소  \n",
        "👉 http://archive.ics.uci.edu/ml/index.php\n",
        "- 캐글 데이터셋  \n",
        "👉 https://www.kaggle.com/datasets\n",
        "- 아마존 AWS 데이터셋  \n",
        "👉 https://registry.opendata.aws\n",
        "- 공공데이터셋  \n",
        "👉 https://www.data.go.kr/index.do\n",
        "\n",
        "과 같은 사이트에 방문해보세요!😆"
      ]
    },
    {
      "cell_type": "markdown",
      "metadata": {
        "id": "qdNIbivqGE3D"
      },
      "source": [
        "<img src=\"https://1.bp.blogspot.com/-C-XS0D36Ubs/XtMOZBnyLLI/AAAAAAAAAZI/6Nen2thHlnUUipI0njEZyOvBXh_A20eJQCLcBGAsYHQ/s1600/%25E1%2584%2589%25E1%2585%25B3%25E1%2584%258F%25E1%2585%25B3%25E1%2584%2585%25E1%2585%25B5%25E1%2586%25AB%25E1%2584%2589%25E1%2585%25A3%25E1%2586%25BA%2B2020-05-31%2B%25E1%2584%258B%25E1%2585%25A9%25E1%2584%258C%25E1%2585%25A5%25E1%2586%25AB%2B10.50.44.png\" border=\"0\" width = \"800\">"
      ]
    },
    {
      "cell_type": "markdown",
      "metadata": {
        "id": "wcF5YCrQMfsm"
      },
      "source": [
        "# 📙 데이터 분석 가이드 📙\n",
        "\n",
        " 어떤 데이터가 주어져도 겁먹지 마세요 🦾💪🤛  \n",
        "이제  📌Step1 ~ 📌Step6만 기억하면 \"**나도 데이터 분석가!**\""
      ]
    },
    {
      "cell_type": "markdown",
      "metadata": {
        "id": "eE_fM8ZSMj2q"
      },
      "source": [
        "## 📌Step1. 어떤 데이터가 주어졌는지 알아보기\n",
        "\n",
        "월요일 오전, 평소와 같이 출근을 했는데 부장님이 엑셀 파일을 카톡으로 보내며 \n",
        "\n",
        "\n",
        "```\n",
        "‍🤵‍ :‍ ‍김 대리. 내일 오전 회의에서 이거 분석 결과 좀 보도록 하지 ~\n",
        "```\n",
        "\n",
        "라고 한다면, 가장 먼저 해야 하는 일은 무엇일까요??\n"
      ]
    },
    {
      "cell_type": "markdown",
      "metadata": {
        "id": "B_pTAVTJ8YjP"
      },
      "source": [
        "### **자료 불러오기**"
      ]
    },
    {
      "cell_type": "markdown",
      "metadata": {
        "id": "mdYT77Ju8Pll"
      },
      "source": [
        "🥇 천리길도 한 걸음부터! \n",
        "\n",
        "먼저 자료를 불러와야겠죠? 수업시간에 배운 여러 가지 방법들로 자료를 불러와보겠습니다. \n",
        "\n",
        "여기서는 연습을 위해 🛳 **titanic dataset**을 가져와볼거에요!"
      ]
    },
    {
      "cell_type": "code",
      "metadata": {
        "id": "jtsNOhCl8bn0"
      },
      "source": [
        "import seaborn as sns\n",
        "import pandas as pd\n",
        "##titanic = sns.load_dataset('raw/titanic') >>> 앞서 사용한 내장 데이터셋 사용 방법\n",
        "\n",
        "#이러한 방법도 있어요~!! pandas와 데이터셋의 주소를 활용하여 가져오는 방법!\n",
        "titanic = pd.read_csv('https://raw.githubusercontent.com/mwaskom/seaborn-data/master/raw/titanic.csv') "
      ],
      "execution_count": null,
      "outputs": []
    },
    {
      "cell_type": "markdown",
      "metadata": {
        "id": "6qiV6-0i7ieY"
      },
      "source": [
        "### **문제 정의**"
      ]
    },
    {
      "cell_type": "markdown",
      "metadata": {
        "id": "slnxMLxS6mUE"
      },
      "source": [
        "🔎 다음으로는, **\"이 데이터를 분석하는 목적이 무엇일까요?\"**겠죠?\n",
        "\n",
        "단순히 자료를 분석하는게 부장님이 원하시는 것은 아닐겁니다.\n",
        "\n",
        "> 자료를 분석해서 어떤 결과를 얻을 수 있겠는가\n",
        "\n",
        "> 이 자료를 분석하는 이유가 무엇인가\n",
        "\n",
        "를 먼저 생각해보아야 합니다!\n"
      ]
    },
    {
      "cell_type": "markdown",
      "metadata": {
        "id": "5QVUsQ7E7OoZ"
      },
      "source": [
        "titanic 자료를 확인해보죠😎"
      ]
    },
    {
      "cell_type": "code",
      "metadata": {
        "id": "H2D1TVaa7SFH"
      },
      "source": [
        "titanic"
      ],
      "execution_count": null,
      "outputs": []
    },
    {
      "cell_type": "markdown",
      "metadata": {
        "id": "QPj7PHG07V9K"
      },
      "source": [
        "이 자료를 가지고도 수많은 일을 할 수 있지만, 여기서는 \n",
        "> **\"어떤 사람이 생존에 유리했을까요?\"**  \n",
        "\n",
        "라는 질문에 집중해보겠습니다!\n",
        "\n",
        "이 다음으로는 1.어떤 문제를 생각할 지, 2.어떤 모형을 사용할 지, 3.모형 평가에는 어떤 지표를 사용할 지  \n",
        "와 같은 다양한 질문들에 답을 해야 하지만, 이에 대해서는 앞으로 천천히 다뤄보도록 하겠습니다."
      ]
    },
    {
      "cell_type": "markdown",
      "metadata": {
        "id": "BfKl3OrT-lrX"
      },
      "source": [
        "### **자료와 친해지기**"
      ]
    },
    {
      "cell_type": "markdown",
      "metadata": {
        "id": "nC3IfEM5OOiP"
      },
      "source": [
        "🛳 자료를 본격적으로 분석하기 앞서! 다시 titanic_dataset 을 보겠습니다.  \n",
        "> 🔍 데이터의 일부분을 보고 다음 질문들에 답변해보세요!\n",
        "- 어떤 feature 를 가지고 있나요? \n",
        "- 각 feature 가 의미하는 바는 무엇인가요? \n",
        "- train set, test set 이 따로 주어졌나요? \n",
        "- 어떤 feature 가 categorical 이고 어떤 feature 가 numerical 인가요? "
      ]
    },
    {
      "cell_type": "markdown",
      "metadata": {
        "id": "q74H4OcBOk5f"
      },
      "source": [
        "### **어떤 feature 를 가지고 있나요?**\n",
        "\n",
        "데이터셋의 feature 는 몇 개인지, 이름은 무엇인지 알아야 분석을 하고 처리를 할 수 있습니다."
      ]
    },
    {
      "cell_type": "code",
      "metadata": {
        "id": "u0wymkfQMb7U"
      },
      "source": [
        "titanic.???"
      ],
      "execution_count": null,
      "outputs": []
    },
    {
      "cell_type": "code",
      "metadata": {
        "id": "6e10jP8SP9BV"
      },
      "source": [
        "titanic.head()"
      ],
      "execution_count": null,
      "outputs": []
    },
    {
      "cell_type": "markdown",
      "metadata": {
        "id": "fFHxyRp27KB7"
      },
      "source": [
        "#### 👀 **각 feature 가 의미하는 바는 무엇인가요?**</summary>\n",
        "\n",
        "\n",
        "🙄🙄sibsp? parch? 등의 이런 feature 들은 직관적으로 어떤 의미를 갖고 있는지 파악하기 힘듭니다.  \n",
        "\n",
        "name 은 이름이라는 걸 바로 알 수 있지만, 첫 번째 줄의 Braund, Mr. Owen Harris  보면 이름이 두 개인 것처럼 보이고 헷갈립니다.  \n",
        "\n",
        "**따.라.서!!** 데이터를 볼 때, 데이터의 출처를 확인하여 각 feature 가 의미하는 바는 무엇인지 파악할 필요가 있습니다.  \n",
        "\n",
        "캐글 - 데이터 분석 챌린지 사이트에서 확인해 봅시다.  \n",
        "Go to kaggle  👉👉 https://www.kaggle.com/c/titanic/data\n",
        "\n",
        "<img src = \"https://subinium.github.io/assets/images/category/kaggle.png\" width = \"800\">\n"
      ]
    },
    {
      "cell_type": "markdown",
      "metadata": {
        "id": "u2XNMNeFCVts"
      },
      "source": [
        "#### **train set, test set 이 따로 주어졌나요?**"
      ]
    },
    {
      "cell_type": "markdown",
      "metadata": {
        "id": "JY5dOfi9CmCR"
      },
      "source": [
        "kaggle에서는 train과 test set을 미리 나눠주었지만 이 자료는 그렇지 않으므로 **직접** 나눠줘야 합니다.\n",
        "\n",
        "원래대로라면 데이터를 미리 나눈 뒤 전처리를 해야하지만  \n",
        "편의를 위해 먼저 전처리를 하고 train set과 test set을 나누겠습니다"
      ]
    },
    {
      "cell_type": "markdown",
      "metadata": {
        "id": "TRIOr1IRCXlU"
      },
      "source": [
        "#### **어떤 feature 가 categorical 이고 어떤 feature 가 numerical 인가요?**\n",
        "\n",
        "각 feature 의 데이터 형태를 아는 것은 매우 중요합니다\n",
        "\n",
        "> 어떤 항목이 📊Categorical(범주형) 인가요?  \n",
        "- 🍊🍎🍇Nominal : survived, sex, embarked  \n",
        "- 🥇🥈🥉ordinal : pclass  \n",
        "\n",
        ">어떤 항목이 📈Numerical(수치형) 인가요? \n",
        "- 👆✌🤟Discret : sibsp, parch\n",
        "- 📏📐🧭Continuous : age, fare"
      ]
    },
    {
      "cell_type": "code",
      "metadata": {
        "id": "fe2xijNfCgYu"
      },
      "source": [
        "titanic.info()"
      ],
      "execution_count": null,
      "outputs": []
    },
    {
      "cell_type": "markdown",
      "metadata": {
        "id": "doOJ0XAy79EP"
      },
      "source": [
        "## 📌Step2. 데이터 탐색 (탐색적 자료분석, Exploratory Data Analysis)\n",
        "\n",
        "타이타닉의 장면들을 기억하시나요?  \n",
        "끝까지 연주하는 악단, 두 손을 잡고 눈을 감는 노부부... 여러 슬픈 명장면들이 있었지만,  \n",
        "이러한 감정을 배제하고 생존에 관한 사실만 기억해보도록 하겠습니다 😭😭  \n",
        "\n",
        "> 어떤 사람이 생존에 유리했을까요?   \n",
        "- [가설1] 구명정에는 여자와 아이가 우선으로 탑승했습니다.  \n",
        "- [가설2] 1등석의 승객들은 비교적 탈출이 용이했습니다.  \n",
        "\n",
        "이 두 가지 가설을 바탕으로, 데이터를 좀 더 깊게 살펴보며 어떤 feature 를 기계학습에 사용할 것인지 판단할 것입니다. "
      ]
    },
    {
      "cell_type": "markdown",
      "metadata": {
        "id": "reE5jj8cGI_s"
      },
      "source": [
        "<img src=\"https://1.bp.blogspot.com/-C-XS0D36Ubs/XtMOZBnyLLI/AAAAAAAAAZI/6Nen2thHlnUUipI0njEZyOvBXh_A20eJQCLcBGAsYHQ/s1600/%25E1%2584%2589%25E1%2585%25B3%25E1%2584%258F%25E1%2585%25B3%25E1%2584%2585%25E1%2585%25B5%25E1%2586%25AB%25E1%2584%2589%25E1%2585%25A3%25E1%2586%25BA%2B2020-05-31%2B%25E1%2584%258B%25E1%2585%25A9%25E1%2584%258C%25E1%2585%25A5%25E1%2586%25AB%2B10.50.44.png\" border=\"0\" width = \"800\">"
      ]
    },
    {
      "cell_type": "markdown",
      "metadata": {
        "id": "4BJj4832NTWz"
      },
      "source": [
        "\n",
        "\n",
        "![대체 텍스트](https://i.pinimg.com/originals/af/bf/af/afbfafac1e700ed3ed9b4a4157a7fa98.jpg)"
      ]
    },
    {
      "cell_type": "markdown",
      "metadata": {
        "id": "J0qt9U2h99R5"
      },
      "source": [
        "이번에는 자료를 수치적(numerical)으로, 시각적(visual)으로 요약해 탐색해보겠습니다."
      ]
    },
    {
      "cell_type": "markdown",
      "metadata": {
        "id": "CEIR1_4a9y-W"
      },
      "source": [
        "### 🔢**수치적으로 살펴보기**"
      ]
    },
    {
      "cell_type": "markdown",
      "metadata": {
        "id": "QFQS9-WyP6SQ"
      },
      "source": [
        "#### **데이터 형태 살펴보기**\n",
        "\n",
        "> 알 수 없는 데이터 형태가 있나요?  \n",
        "> Ex) Ticket의 `STON/O2. 3101282 `, Cabin 의 `C123` 등  \n",
        "\n",
        "이러한 데이터들은 문자와 숫자가 혼합되어 사용되고 있습니다. \n",
        "\n",
        "**문자 부분은 Categorical 이면서 숫자 부분은 Numerical 한 특징도 동시에** 있습니다.  \n",
        "\n",
        "이럴 경우 **전처리**가 필요합니다."
      ]
    },
    {
      "cell_type": "code",
      "metadata": {
        "id": "sw4kDq9luXk9"
      },
      "source": [
        "titanic.head()"
      ],
      "execution_count": null,
      "outputs": []
    },
    {
      "cell_type": "markdown",
      "metadata": {
        "id": "ll6obMeR8Gtx"
      },
      "source": [
        "#### **비어있거나 (NaN) 틀린 값이 있는 feature 가 있나요?**\n",
        "\n",
        "기계학습 모델에서 비어있는 값은 인식이 되지 않습니다.  \n",
        "데이터의 특성에 따라, 의도하는 방향에 따라 여러 처리 방법이 있지만\n",
        "\n",
        " 통상적으로 다음과 같은 방법을 이용합니다. \n",
        "\n",
        "1. 0 값으로 대체 (numerical의 경우) , \"empty\" \"null\" 등의 값으로 대체 (categorical의 경우)\n",
        "\n",
        "2. 중간값으로 대체 (numerical의 경우) , 가장 많이 등장하는 category 로 대체 (categorical의 경우) \n",
        "\n",
        "3.  작은 수의 경우, 해당 instance 를 삭제하여 사용하지 않음. 많이 비어있는 경우 해당 feature 를 아예 사용하지 않음.\n",
        "\n",
        "> `isna()`를 사용하여 결측값을 확인하세요."
      ]
    },
    {
      "cell_type": "code",
      "metadata": {
        "id": "HyVDosLQ9XSq"
      },
      "source": [
        "titanic.???        # True 부분이 비어있는 칸"
      ],
      "execution_count": null,
      "outputs": []
    },
    {
      "cell_type": "markdown",
      "metadata": {
        "id": "dpy-_AGF_RMl"
      },
      "source": [
        "> `isna().any()` 함수를 이용하여 좀 더 쉽게 한눈에 알아볼 수 있습니다."
      ]
    },
    {
      "cell_type": "code",
      "metadata": {
        "id": "1Qfkh_lV-k1Z"
      },
      "source": [
        "titanic.???   # 빈 칸이 있을 경우 'True'라고 표시"
      ],
      "execution_count": null,
      "outputs": []
    },
    {
      "cell_type": "markdown",
      "metadata": {
        "id": "53wHFhwA_avI"
      },
      "source": [
        "> `isna().sum()` 함수를 이용하여 몇 개가 na 인지 볼 수 있습니다."
      ]
    },
    {
      "cell_type": "code",
      "metadata": {
        "id": "RyDIlJsY_eX5"
      },
      "source": [
        "titanic.???"
      ],
      "execution_count": null,
      "outputs": []
    },
    {
      "cell_type": "markdown",
      "metadata": {
        "id": "qemK-R9v-kVb"
      },
      "source": [
        "age, cabin, embarked 는 비어있는 값이 있는 것을 확인하였습니다.  \n",
        "이중 age 는 177 개, cabin 은 무려 687개가 없기 때문에 대책이 필요한 것을 알 수 있습니다. "
      ]
    },
    {
      "cell_type": "markdown",
      "metadata": {
        "id": "lmD2MrEh-Xb1"
      },
      "source": [
        "#### **데이터의 분포는 어떻게 되나요?**\n",
        "\n",
        "본격적으로 데이터 분석에 들어가기 전에, \n",
        "pandas 의 간단한 기능을 이용하여 전체적인 데이터의 분포를 확인하겠습니다.\n"
      ]
    },
    {
      "cell_type": "markdown",
      "metadata": {
        "id": "-WpRfCEIA4xy"
      },
      "source": [
        "##### **numerical 데이터**\n",
        "\n",
        "`describe()` 함수를 이용합니다."
      ]
    },
    {
      "cell_type": "code",
      "metadata": {
        "id": "X3sg-87r92Aq"
      },
      "source": [
        "titanic.???"
      ],
      "execution_count": null,
      "outputs": []
    },
    {
      "cell_type": "markdown",
      "metadata": {
        "id": "x2nTIfVLA_P0"
      },
      "source": [
        "🔍 위 표를 해석해 보기 \n",
        "- **count** 에 age를 제외하고 모두 891개의 데이터가 정상적으로 있다는 것을 알 수 있습니다.\n",
        "\n",
        "- `surivived` 의 평균값(**mean**) 이 0.38 임으로 대략 38퍼센트의 승객만이 생존한 것을 알 수 있습니다.\n",
        "\n",
        "- `pclass` 는 50% 구간까지가 3임으로 과반수의 승객들이 3등석에 있었습니다.\n",
        "\n",
        "- `age` 의 평균은 29, 추후 분석을 더 하겠지만 생각보다 승객의 나이가 젊습니다. \n",
        "\n",
        "- `sibsip`, `parch`, `fare` 는 이 표만 봐서는 잘 알 수 없습니다. \n"
      ]
    },
    {
      "cell_type": "markdown",
      "metadata": {
        "id": "uz17G4MQBrSk"
      },
      "source": [
        "##### **categorical 데이터**\n",
        "\n",
        "`describe(include=['O'])` 를 이용하면 categorical data 도 분석해줍니다.\n",
        "\n",
        "🤣숫자 0 아닌 대문자 알파벳 O 입니다 🤣 "
      ]
    },
    {
      "cell_type": "code",
      "metadata": {
        "id": "Vf4Nd42DBwbB"
      },
      "source": [
        "titanic.describe(include=['O'])"
      ],
      "execution_count": null,
      "outputs": []
    },
    {
      "cell_type": "markdown",
      "metadata": {
        "id": "BztYsDAaB30A"
      },
      "source": [
        "🔍 위 표를 해석 해보기 \n",
        "- `count` : 해당 열에서 NaN을 제외한 데이터의 개수\n",
        "\n",
        "- `unique` : 해당 열에서 중복되지 않는 값의 개수\n",
        "\n",
        "- `top` : 해당 열에서 가장 많이 중복되는 데이터\n",
        "\n",
        "- `freq` : 가장 많이 중복되는 데이터의 개수\n",
        "\n",
        "- `sex` 중 `male`이 891 중 577을 차지하고 있습니다.\n",
        "\n",
        "- `ticket` 은 210(891-681) 개의 중복값이 있는 것을 확인할 수 있습니다.\n",
        "\n",
        "- `cabin` 도 중복값이 있네요, 같은 방을 쓴 사람들이 있었나 봅니다.\n",
        "\n",
        "데이터의 형태와 분포를 살펴보는 것이 처음이시라면 쉽지 않게 느껴지실 수 있는데요.  \n",
        "이렇게 가설을 세우기 전, **데이터를 분석**해봐야 **유의미한 가설을 세우고 검증**을 할 수 있어집니다.  \n",
        "그리고 다양한 데이터를 분석해보며 연습한다면 훌륭한 데이터 사이언티스트가 되실 수 있을 것입니다!!"
      ]
    },
    {
      "cell_type": "markdown",
      "metadata": {
        "id": "fAPAmM8O-unr"
      },
      "source": [
        "### **👀시각적으로 살펴보기**"
      ]
    },
    {
      "cell_type": "markdown",
      "metadata": {
        "id": "Zj9GSbit_AWO"
      },
      "source": [
        "이번에는 자료를 시각적으로 살펴보겠습니다. \n",
        "\n",
        "파이썬에서 시각화를 위한 패키지는 무엇이 있었는지 지난 시간에 배웠습니다.  \n",
        "바로 `seaborn`과 `matplotlib`였죠!"
      ]
    },
    {
      "cell_type": "code",
      "metadata": {
        "id": "9W9HC4Ho_JVD"
      },
      "source": [
        "import seaborn as sns\n",
        "import matplotlib.pyplot as plt\n",
        "\n",
        "sns.set(style=\"darkgrid\") # 그림을 더 예쁘게"
      ],
      "execution_count": null,
      "outputs": []
    },
    {
      "cell_type": "markdown",
      "metadata": {
        "id": "W_HeYRx2_ego"
      },
      "source": [
        "#### **자료들의 관계 살펴보기**"
      ]
    },
    {
      "cell_type": "markdown",
      "metadata": {
        "id": "w1wrPesK_NWF"
      },
      "source": [
        "먼저, numerical 데이터들의 관계에 대해 살펴보겠습니다. \n",
        "\n",
        "```\n",
        "sns.pairplot(data)\n",
        "```\n",
        "를 기억해주세요!"
      ]
    },
    {
      "cell_type": "code",
      "metadata": {
        "id": "h-LrJHqUryrU"
      },
      "source": [
        "sns.???\n",
        "plt.show()"
      ],
      "execution_count": null,
      "outputs": []
    },
    {
      "cell_type": "markdown",
      "metadata": {
        "id": "ya6-TsnK_ivi"
      },
      "source": [
        "#### **가설 확인하기**"
      ]
    },
    {
      "cell_type": "markdown",
      "metadata": {
        "id": "hweuvcwD_ZRp"
      },
      "source": [
        "우리의 가설을 다시 떠올려볼까요?\n",
        "\n",
        "- [가설1] 구명정에는 여자와 아이가 우선으로 탑승했습니다.  \n",
        "- [가설2] 1등석의 승객들은 비교적 탈출이 용이했습니다.  \n"
      ]
    },
    {
      "cell_type": "markdown",
      "metadata": {
        "id": "Vmob0QZNWjOL"
      },
      "source": [
        "> 먼저 `sex` 와 `survived` 의 관계를 보겠습니다. "
      ]
    },
    {
      "cell_type": "code",
      "metadata": {
        "id": "zhLtqgaHNUDh"
      },
      "source": [
        "sns.???\n",
        "plt.???\n",
        "plt.show()"
      ],
      "execution_count": null,
      "outputs": []
    },
    {
      "cell_type": "markdown",
      "metadata": {
        "id": "RXOl-0UCaShB"
      },
      "source": [
        "> ✔ 여자 승객이 더 높은 생존율을 가진 것을 확인할 수 있습니다. "
      ]
    },
    {
      "cell_type": "markdown",
      "metadata": {
        "id": "exABBTPzajq3"
      },
      "source": [
        ">이번에는 가설1인 아이들의 생존율을 확인해보겠습니다.  \n",
        "(빨강색이 생존자 데이터)"
      ]
    },
    {
      "cell_type": "code",
      "metadata": {
        "id": "2hbSdZHxZAHh"
      },
      "source": [
        "sns.histplot???\n",
        "sns.???\n",
        "\n",
        "plt.???\n",
        "plt.show()"
      ],
      "execution_count": null,
      "outputs": []
    },
    {
      "cell_type": "markdown",
      "metadata": {
        "id": "QUnOzjCJc2s3"
      },
      "source": [
        "> `FacetGrid` 를 사용하면 여러 개의 그래프를 손쉽게 만들 수 있습니다 (위 그래프와 같음)"
      ]
    },
    {
      "cell_type": "code",
      "metadata": {
        "id": "t4UY8o2ibh5d"
      },
      "source": [
        "grid = ???\n",
        "grid.???\n",
        "plt.show()"
      ],
      "execution_count": null,
      "outputs": []
    },
    {
      "cell_type": "code",
      "metadata": {
        "id": "fA670mmNuJq9"
      },
      "source": [
        "# grid = sns.FacetGrid(titanic, col='sex')\n",
        "# grid.map(sns.distplot, 'age', kde=False)"
      ],
      "execution_count": null,
      "outputs": []
    },
    {
      "cell_type": "markdown",
      "metadata": {
        "id": "rewN6sWFaoYO"
      },
      "source": [
        "10세 미만의 아이들은 생존율이 매우 높은 것을 확인할 수 있습니다. \n",
        "또한 80세 이상의 노인도 생존율이 높습니다. \n",
        "\n",
        "대부분의 승객은 15 ~ 35세 사이인 것을 확인 할 수 있습니다. "
      ]
    },
    {
      "cell_type": "markdown",
      "metadata": {
        "id": "N7kCfAAmc-cL"
      },
      "source": [
        "> 이번에는 `pclass` 와 `survived` 의 관계를 분석해 보겠습니다. "
      ]
    },
    {
      "cell_type": "code",
      "metadata": {
        "id": "I1BcvcZQc86l"
      },
      "source": [
        "sns.???\n",
        "plt.show()"
      ],
      "execution_count": null,
      "outputs": []
    },
    {
      "cell_type": "markdown",
      "metadata": {
        "id": "h3IFQ7E_eK1v"
      },
      "source": [
        "나이와 성별을 동시에 살펴볼까요?"
      ]
    },
    {
      "cell_type": "code",
      "metadata": {
        "id": "cdqSQcvhdlqm"
      },
      "source": [
        "grid = ???\n",
        "grid.???\n",
        "plt.show()"
      ],
      "execution_count": null,
      "outputs": []
    },
    {
      "cell_type": "markdown",
      "metadata": {
        "id": "sxeAMo2gAn1k"
      },
      "source": [
        "성별과 등급을 동시에 살펴볼 수도 있습니다."
      ]
    },
    {
      "cell_type": "code",
      "metadata": {
        "id": "PfOdiCR4emgO"
      },
      "source": [
        "grid = ???\n",
        "grid.???\n",
        "grid.???\n",
        "plt.show()"
      ],
      "execution_count": null,
      "outputs": []
    },
    {
      "cell_type": "markdown",
      "metadata": {
        "id": "p1WEYHExfGZO"
      },
      "source": [
        "[가설1] 여성 승객들은 생존율이 높은것을 확인할 수 있습니다.  \n",
        "[가설2] 객실 등급이 높을 수록 생존율이 높은것을 확인 할 수 있습니다.   "
      ]
    },
    {
      "cell_type": "markdown",
      "metadata": {
        "id": "RGOOQy5Lm9uc"
      },
      "source": [
        "> 🔍'데이터 시각화'가 기억이 잘 나지 않는다면??\n",
        "- 🧜‍♀️데이터 다이빙 🧜‍♂️ 2강 복습\n",
        "\n",
        "> 🔍'데이터 시각화'에 대해 더 자세히 알고 싶다면??\n",
        "- 코랩의 데이터 시각화 예제 : https://colab.research.google.com/notebooks/charts.ipynb\n",
        "- seaborn 패키지 기초부터 심화 : https://seaborn.pydata.org/introduction.html\n",
        "- seaborn 색상 파레트 : https://seaborn.pydata.org/generated/seaborn.color_palette.html#seaborn.color_palette"
      ]
    },
    {
      "cell_type": "markdown",
      "metadata": {
        "id": "th0GHed6A1hq"
      },
      "source": [
        "> 탐색적 자료분석도 마쳤으니 이제 바로 자료를 분석해볼까요?!\n"
      ]
    },
    {
      "cell_type": "code",
      "metadata": {
        "id": "xZyu8iCYB_hL"
      },
      "source": [
        "# 일단 실행만 해보세요!\n",
        "\n",
        "from sklearn.linear_model import LogisticRegression\n",
        "from sklearn.model_selection import train_test_split\n",
        "\n",
        "X = titanic.drop('survived', axis=1)\n",
        "y = titanic['survived']\n",
        "\n",
        "X_train, X_test, y_train, y_test = \\\n",
        " train_test_split(X, y, test_size=0.3, random_state=123)\n",
        "\n",
        "titanic_model = LogisticRegression()\n",
        "titanic_model.fit(X_train, y_train)"
      ],
      "execution_count": null,
      "outputs": []
    },
    {
      "cell_type": "markdown",
      "metadata": {
        "id": "tJ2-i5SJB9lT"
      },
      "source": [
        "\n",
        "하지만 세상은 그리 만만치 않습니다 😭\n",
        "\n",
        "머신러닝 모형은 우리의 자료를 있는 그대로 바로 받아들이지 못합니다 (어째서!!)\n",
        "\n",
        "이제부터 머신러닝 모형이 우리의 자료를 이해해줄 수 있도록 전처리(preprocessing)을 진행해보겠습니다."
      ]
    },
    {
      "cell_type": "markdown",
      "metadata": {
        "id": "x-BtUU0Fhljz"
      },
      "source": [
        "## 📌Step.3 머신러닝 모형을 위한 데이터 준비 "
      ]
    },
    {
      "cell_type": "markdown",
      "metadata": {
        "id": "2Ldpi1A1GLix"
      },
      "source": [
        "<img src=\"https://1.bp.blogspot.com/-C-XS0D36Ubs/XtMOZBnyLLI/AAAAAAAAAZI/6Nen2thHlnUUipI0njEZyOvBXh_A20eJQCLcBGAsYHQ/s1600/%25E1%2584%2589%25E1%2585%25B3%25E1%2584%258F%25E1%2585%25B3%25E1%2584%2585%25E1%2585%25B5%25E1%2586%25AB%25E1%2584%2589%25E1%2585%25A3%25E1%2586%25BA%2B2020-05-31%2B%25E1%2584%258B%25E1%2585%25A9%25E1%2584%258C%25E1%2585%25A5%25E1%2586%25AB%2B10.50.44.png\" border=\"0\" width = \"800\">"
      ]
    },
    {
      "cell_type": "markdown",
      "metadata": {
        "id": "RLh5G0t7GcQI"
      },
      "source": [
        "### 1️⃣**Step 3-1. 결측치 처리** "
      ]
    },
    {
      "cell_type": "markdown",
      "metadata": {
        "id": "Iygg_MpzP_Ta"
      },
      "source": [
        "#### 🚁 **결측치 찾기**  \n",
        "\n",
        "값이 없는 (혹은 누락된) 데이터의 경우, 판다스 데이터프레임에서는 NAN 으로 표기하게 됩니다.  \n",
        ">- NA = Not available  \n",
        "- NAN = Not a number (판다스에서는 NA 를 NAN 으로 표기합니다) "
      ]
    },
    {
      "cell_type": "code",
      "metadata": {
        "id": "DtBaorUmIVB4"
      },
      "source": [
        "titanic.???"
      ],
      "execution_count": null,
      "outputs": []
    },
    {
      "cell_type": "code",
      "metadata": {
        "id": "JE4fzam9IWbe"
      },
      "source": [
        "titanic.???"
      ],
      "execution_count": null,
      "outputs": []
    },
    {
      "cell_type": "markdown",
      "metadata": {
        "id": "cXJAjimzHcAf"
      },
      "source": [
        "#### 😎 **결측치 처리하기**\n",
        "\n",
        "결측치를 처리하는 방법은 크게 세 가지가 있습니다 .\n",
        "\n",
        "1. 행을 **제거한다 (drop)**\n",
        "2. 열을 **제거한다 (drop)**\n",
        "3. **다른 값으로 대체한다 (FILL)**\n",
        "\n"
      ]
    },
    {
      "cell_type": "code",
      "metadata": {
        "id": "WCtOt9foRTy-"
      },
      "source": [
        "import pandas as pd\n",
        "import numpy as np    # NumPy는 행렬이나 일반적으로 대규모 다차원 배열을 쉽게 처리 할 수 있도록 지원하는 파이썬의 라이브러리\n",
        "\n",
        "# 예시 데이터 프레임  \n",
        "df = pd.DataFrame([[1,2,np.nan],[3,np.nan,4],[np.nan,5,6],[np.nan,np.nan,np.nan]],columns=['a','b','c'])\n",
        "df"
      ],
      "execution_count": null,
      "outputs": []
    },
    {
      "cell_type": "markdown",
      "metadata": {
        "id": "Wfgu1oUPRtLj"
      },
      "source": [
        "> 🗑제거(Drop) 하는 법 : 비어있는 값(NaN)이 너무 많을 경우, 전처리가 불가능한 경우 사용\n",
        "> - `데이터프레임.dropna()`\n",
        "- `데이터프레임.dropna(how='all')`"
      ]
    },
    {
      "cell_type": "code",
      "metadata": {
        "id": "YHmkZ0r5RwW5"
      },
      "source": [
        "#nan 값이 있는 행을 다 지우기 \n",
        "df.???"
      ],
      "execution_count": null,
      "outputs": []
    },
    {
      "cell_type": "code",
      "metadata": {
        "id": "Q6AcAgZCSGl1"
      },
      "source": [
        "#모든 값이 nan 일때만 지우기\n",
        "df.???"
      ],
      "execution_count": null,
      "outputs": []
    },
    {
      "cell_type": "code",
      "metadata": {
        "id": "lInbxGgQHPeZ"
      },
      "source": [
        "#nan 값이 있는 열을 다 지우기 \n",
        "df.???"
      ],
      "execution_count": null,
      "outputs": []
    },
    {
      "cell_type": "markdown",
      "metadata": {
        "id": "gsy28Q5oSWkr"
      },
      "source": [
        "> 🎨대치(Fill) 하는 법 : 비교적 비어있는 값(NaN)이 적고 해당 데이터가 유의미하여 이용할만한 경우 사용  \n",
        "- `데이터프레임.fillna(0)`"
      ]
    },
    {
      "cell_type": "code",
      "metadata": {
        "id": "s-JKJEd0SVr5"
      },
      "source": [
        "#0 으로 대체\n",
        "df.???"
      ],
      "execution_count": null,
      "outputs": []
    },
    {
      "cell_type": "markdown",
      "metadata": {
        "id": "am2tTZvdHYNX"
      },
      "source": [
        "#### 🗑 **결측치 제거하기** "
      ]
    },
    {
      "cell_type": "markdown",
      "metadata": {
        "id": "0y0svmp6E2tN"
      },
      "source": [
        "\n",
        "\n",
        "`cabin` 은 비어 있는 값이 많아 삭제하려 합니다.  \n",
        "객실의 대략적 위치는 `pclass` 로 짐작할 수 있기 때문에 drop 해도 무방할 것이라 판단하였습니다.\n",
        "> `drop.([제거하려는 열 이름], axis = 행-0 열-1, inplace = True)`\n",
        "\n",
        "(추가로, `ticket` 의 값은 너무 다양하고 사용하기 힘들어 여기서 같이 삭제하겠습니다. )"
      ]
    },
    {
      "cell_type": "code",
      "metadata": {
        "id": "MXUaSg1Hh-ih"
      },
      "source": [
        "# cabin 데이터 마지막으로 확인\n",
        "titanic['cabin']"
      ],
      "execution_count": null,
      "outputs": []
    },
    {
      "cell_type": "code",
      "metadata": {
        "id": "gDCPoBwbiX6V"
      },
      "source": [
        "titanic.???   # 'inplace=True'를 해야만 실제 데이터셋에서 해당 열이 완전히 지워집니다\n",
        "titanic"
      ],
      "execution_count": null,
      "outputs": []
    },
    {
      "cell_type": "markdown",
      "metadata": {
        "id": "J0fSGSLmIdpW"
      },
      "source": [
        "#### 🎨 **결측치 대체하기**"
      ]
    },
    {
      "cell_type": "code",
      "metadata": {
        "id": "4-9fmHrL03mp"
      },
      "source": [
        "titanic['age']"
      ],
      "execution_count": null,
      "outputs": []
    },
    {
      "cell_type": "markdown",
      "metadata": {
        "id": "cZQeTWY2m42Q"
      },
      "source": [
        "\n",
        "> 통계적으로 차이가 나지 않도록 **평균(mean)** 에 **분산(std)** 만큼 차이 나는 사이의 임의값을 넣어주기\n",
        "\n",
        "Age의 경우 `.drop()`을 사용해서 버리기에는 너무 중요한 값입니다.   \n",
        "\n",
        "그렇다고 일괄적으로 빈칸에 0 등의 값을 넣으면 오히려 자료가 왜곡되는 문제가 생깁니다.\n",
        "\n"
      ]
    },
    {
      "cell_type": "code",
      "metadata": {
        "id": "XteCT1NbJHt_"
      },
      "source": [
        "sns.histplot(titanic['age'])\n",
        "plt.show()"
      ],
      "execution_count": null,
      "outputs": []
    },
    {
      "cell_type": "code",
      "metadata": {
        "id": "CVlIVHtIJOZz"
      },
      "source": [
        "sns.histplot(titanic.fillna(0)['age'])\n",
        "plt.show()"
      ],
      "execution_count": null,
      "outputs": []
    },
    {
      "cell_type": "markdown",
      "metadata": {
        "id": "bvrL-zfqJHC1"
      },
      "source": [
        "\n",
        "그래서 이런 숫자 데이터에 일반적으로 **자료의 분포를 해치지 않는 값**을 생성하여 집어넣습니다\n",
        "\n",
        "대표적으로, 자료와 평균과 분산이 일치하는 **정규분포**에서 표본을 생성하여 집어넣는 방법이 있죠 \n",
        "\n",
        " < ---- 데이터 ---- >  \n",
        "- 평균 = 데이터의 중앙에 있을 확률이 높은 값  \n",
        "- 분산 = 각 값이 평균에서 얼마만큼 분산되어있는지의 척도   \n",
        "\n",
        "그래서 평균에서 분산만큼 떨어진 값들 사이가 대략적으로 가장 확률이 높은 곳이라고 볼 수 있습니다.  \n",
        "\n",
        "`분산  ~ 평균() ~ 분산 `"
      ]
    },
    {
      "cell_type": "code",
      "metadata": {
        "id": "53S8dCJ-oLIK"
      },
      "source": [
        "import numpy as np\n",
        "\n",
        "age_mean = titanic.age.???       # age 의 mean 값을 구함\n",
        "age_std = titanic.age.???        # age 의 std 값을 구함\n",
        "age_size = titanic.age.???       # age 에 nan 값이 몇개인지를 구함 "
      ],
      "execution_count": null,
      "outputs": []
    },
    {
      "cell_type": "code",
      "metadata": {
        "id": "oU__sHv4336G"
      },
      "source": [
        "np.random.seed(123)\n",
        "rand_age = abs(np.random.randn(age_size)*age_std + age_mean) # 나이이므로 절댓값을 씌웠음\n",
        "print(rand_age)"
      ],
      "execution_count": null,
      "outputs": []
    },
    {
      "cell_type": "markdown",
      "metadata": {
        "id": "moLWWBVxo-r2"
      },
      "source": [
        "> 이제 `titanic['age']` 의 비여있는 값을 rand_age 로 대체해줍니다. "
      ]
    },
    {
      "cell_type": "code",
      "metadata": {
        "id": "bigzVUF_o8Z2"
      },
      "source": [
        "# 기존 'age'열 중 비어있는 값에 rand_age에 들어있는 값을 차례로 넣기\n",
        "??? = rand_age\n",
        "\n",
        "# 아직도 'age'에 nan 값이 있을까요? 확인해봅시다!\n",
        "titanic.isna().sum()"
      ],
      "execution_count": null,
      "outputs": []
    },
    {
      "cell_type": "code",
      "metadata": {
        "id": "aIxChCV1J0yG"
      },
      "source": [
        "# 분포도 확인해봅시다. \n",
        "sns.histplot(titanic['age'])\n",
        "plt.show()"
      ],
      "execution_count": null,
      "outputs": []
    },
    {
      "cell_type": "markdown",
      "metadata": {
        "id": "AGKduQVtqHdW"
      },
      "source": [
        "> `embarked` 의 경우 2개만 없기 때문에, 가장 흔한 값인 'S' 로 대체해주는 방법을 사용했습니다.\n",
        "- 889개의 데이터에 3종류의 값이 들어가 있음\n",
        "- 가장 많은 것은 'S'\n",
        "- 'S'는 총 644개"
      ]
    },
    {
      "cell_type": "code",
      "metadata": {
        "id": "idCEBObZq0W7"
      },
      "source": [
        "titanic['embarked'].describe()    "
      ],
      "execution_count": null,
      "outputs": []
    },
    {
      "cell_type": "code",
      "metadata": {
        "id": "FEABFz7tqOEU"
      },
      "source": [
        "titanic['embarked'].???    # 'S'로 대체"
      ],
      "execution_count": null,
      "outputs": []
    },
    {
      "cell_type": "code",
      "metadata": {
        "id": "AyF6YGI_5C39"
      },
      "source": [
        "titanic.isna().sum()"
      ],
      "execution_count": null,
      "outputs": []
    },
    {
      "cell_type": "markdown",
      "metadata": {
        "id": "b_Ja1nQuigF7"
      },
      "source": [
        "### 2️⃣Step3-2. 🔬Feature Engineering \n",
        "\n",
        "<img src = \"https://1.bp.blogspot.com/-HBgP_owm--A/XoQipYqD5qI/AAAAAAAAAPo/091_vEIxgDg5jjczw9zQosxZe_UPlSiPgCLcBGAsYHQ/s320/icon.png\" width = \"300\">  \n",
        "\n",
        "\n",
        "여러 개의 feature 를 조합하거나, 기존 feature 에서 새로운 정보를 추출해 새로운 \n",
        "\n",
        "feature 를 만드는 것을 **🔬Feature Engineering** 이라고 합니다. \n",
        "\n",
        "예를 들면 📒전화번호부에 \"**세스코 김부장**\" 이라고 저장되어있는 이름을 통해서, \n",
        "\n",
        "\"**김**\" 씨 성을 가진 \"**세스코**\"에서 일하는 \"**부장**\"직의 직원인 것을 알 수 있습니다.\n",
        "\n",
        "마찬가지로 titanic 에서는 'name' 항목에 그 사람의 'title'(직위) 가 있으니, \n",
        "\n",
        "필요 없는 'name'은 없애고, 어떤 승객 군을 나누는데 적합한 'title' 만 남기도록 하겠습니다."
      ]
    },
    {
      "cell_type": "markdown",
      "metadata": {
        "id": "M0Tn_kRalAUV"
      },
      "source": [
        "#### title **추출하기**\n",
        "\n",
        "> 아래의 코드는 titanic 의 이름에서 '.' 앞에 붙는 단어를 가져와 title 에 저장하는 방법입니다.  \n",
        "- `Braund, Mr. Owen Harris` 에서 '`Mr`' 만 추출하기!\n",
        "- `.split('기준')`"
      ]
    },
    {
      "cell_type": "code",
      "metadata": {
        "id": "GX4bE01flQDH"
      },
      "source": [
        "name = \"Braund, Mr. Owen Harris\"\n",
        "\n",
        "print(name.split(' ')) # 이름을 ' ' 띄어쓰기를 기준으로 분리 하여 리스트로 반환\n",
        "# 예) \"Bround, Mr. Owne Harris\" -> [Bround, Mr., Owne, Harris]"
      ],
      "execution_count": null,
      "outputs": []
    },
    {
      "cell_type": "code",
      "metadata": {
        "id": "LR3R7BlXfFB7"
      },
      "source": [
        "for item in name.split(' '):    # 변환된 리스트의 원소를 item이라는 임시 변수에 하나씩 넣으면서 루프가 돌아감\n",
        "  if '.' in item:            # 분리한 리스트에서 . 이 있으면\n",
        "    print(item) # 출력\n",
        "    print(item[:-1])        # .도 없애주기(1강 리스트 slicing 참고)"
      ],
      "execution_count": null,
      "outputs": []
    },
    {
      "cell_type": "code",
      "metadata": {
        "id": "sOUnDsKPKIHh"
      },
      "source": [
        "title_list = []\n",
        "for name in titanic['name']:\n",
        "  for item in name.split(' '):\n",
        "    if '.' in item:\n",
        "      title_list.append(item[:-1])"
      ],
      "execution_count": null,
      "outputs": []
    },
    {
      "cell_type": "markdown",
      "metadata": {
        "id": "r3qFJXA4PAOm"
      },
      "source": [
        "> 정규표현식으로 직위(Mr, Mrs, Miss 등)를 추출해서 기존 데이터셋에 'title'이라는 이름의 열 추가하기"
      ]
    },
    {
      "cell_type": "code",
      "metadata": {
        "id": "6HHJaSXejq39"
      },
      "source": [
        "titanic['title'] = pd.Series(title_list)\n",
        "titanic    # title이라고 새로 생기는 열을 주목해봅시다!"
      ],
      "execution_count": null,
      "outputs": []
    },
    {
      "cell_type": "markdown",
      "metadata": {
        "id": "mlB00iiTQ7GP"
      },
      "source": [
        "> 새로 추가된 'title'이라는 열에는 총 18 종류의 데이터가 들어가 있으며 'Mr'가 제일 많은 것을 알 수 있습니다."
      ]
    },
    {
      "cell_type": "code",
      "metadata": {
        "id": "LLdxlkg8QuOk"
      },
      "source": [
        "titanic.describe(include=['O'])"
      ],
      "execution_count": null,
      "outputs": []
    },
    {
      "cell_type": "code",
      "metadata": {
        "id": "HMyHAG_27bKq"
      },
      "source": [
        "titanic.title.unique()"
      ],
      "execution_count": null,
      "outputs": []
    },
    {
      "cell_type": "markdown",
      "metadata": {
        "id": "IuXM3i5xN1gY"
      },
      "source": [
        "이제 `name` 열은 삭제합시다. "
      ]
    },
    {
      "cell_type": "code",
      "metadata": {
        "id": "MT6Xt48uN4lQ"
      },
      "source": [
        "titanic.drop('name', axis=1, inplace=True)"
      ],
      "execution_count": null,
      "outputs": []
    },
    {
      "cell_type": "markdown",
      "metadata": {
        "id": "Swek0rgjs0rt"
      },
      "source": [
        "#### **`cut()` 을 이용해 age를 구간으로 바꾸기**\n",
        "\n",
        "마케팅 직군에서도 고객을 분석할 때 보통 10대, 20대, 30대 등 이런 식으로 연령대 구분을 많이 하죠?  \n",
        "마찬가지로 데이터 분석에서도 나이가 11인지 12인지 보다는 10대인지 20대인지 이런 식으로 구간을 설정하여 보는 것이   \n",
        "더 정확하고, 성능을 좋게 내는 경우가 있습니다.\n",
        "\n",
        "> 🔍 우리도 `pd.cut()` 함수를 이용하여 나이를 5개의 구간으로 잘라보겠습니다. \n"
      ]
    },
    {
      "cell_type": "code",
      "metadata": {
        "id": "JozmmrtItUaz"
      },
      "source": [
        "titanic['age_band'] = ???    #5개의 구간으로 잘라, ageband 라는 새로운 열 생성\n",
        "titanic.head()"
      ],
      "execution_count": null,
      "outputs": []
    },
    {
      "cell_type": "markdown",
      "metadata": {
        "id": "D2DScr3Ct7h-"
      },
      "source": [
        "구간으로 나눈 게 의미가 있을까요? 한번 **🗒pivot table** 을 이용해서 알아봅시다  \n",
        "> - **🗒pivot table**이란?  \n",
        "\n",
        "<img src = \"https://cdn.lynda.com/course/114891/114891-636216267723725186-16x9.jpg\" width = \"800\">\n",
        "\n",
        " 커다란 표의 데이터를 요약하는 통계표입니다. 이 요약에는 합계, 평균, 기타 통계가 포함될 수 있으며 피벗 테이블이 이들을 함께 \n",
        " \n",
        " 의미 있는 방식으로 묶어줍니다. 이는 유용한 정보에 집중할 수 있도록 하기 위해 통계를 정렬 또는 재정렬(피벗)합니다.  \n",
        "\n",
        "> - `pd.pivot_table()`"
      ]
    },
    {
      "cell_type": "code",
      "metadata": {
        "id": "PxIc-XhQUWRS"
      },
      "source": [
        "#각 age_band 별로 평균 survived 가 어느 정도인지 보여주는 피벗 테이블 \n",
        "pd.pivot_table(titanic, values='survived', columns='age_band')"
      ],
      "execution_count": null,
      "outputs": []
    },
    {
      "cell_type": "markdown",
      "metadata": {
        "id": "p4OC1_p2Vfnq"
      },
      "source": [
        "나이 구간에 따라서 생존율이 유의미하게 차이 나는 것을 볼 수 있습니다.   \n",
        "\n",
        "> 🔍연습 : 아래의 공간에 각 title 별로 생존율을 보여주는 피벗 테이블을 만들어보세요 "
      ]
    },
    {
      "cell_type": "code",
      "metadata": {
        "id": "IoEVy_QmGk16"
      },
      "source": [
        "# 여기에\n",
        "pd.???"
      ],
      "execution_count": null,
      "outputs": []
    },
    {
      "cell_type": "markdown",
      "metadata": {
        "id": "ZaIUOPqvNUO-"
      },
      "source": [
        "`age_band`를 추가했으니 `age`열은 제거합시다. "
      ]
    },
    {
      "cell_type": "code",
      "metadata": {
        "id": "JRggzvxyNN9F"
      },
      "source": [
        "titanic.???\n",
        "titanic"
      ],
      "execution_count": null,
      "outputs": []
    },
    {
      "cell_type": "code",
      "metadata": {
        "id": "yi99KSqA98LY"
      },
      "source": [
        "# 실행되지 않는 분들을 위한 코드 \n",
        "# 만약 두번 눌렀다면,,,,\n",
        "# titanic_backup = pd.read_csv('https://raw.githubusercontent.com/mwaskom/seaborn-data/master/raw/titanic.csv')\n",
        "# age_backup = titanic_backup['age']\n",
        "# age_backup[ age_backup.isna() ] = rand_age\n",
        "# titanic['age'] = age_backup"
      ],
      "execution_count": null,
      "outputs": []
    },
    {
      "cell_type": "markdown",
      "metadata": {
        "id": "Raa-r_2PX-_U"
      },
      "source": [
        "#### **Feature 조합하기** \n",
        "\n",
        "⭐두 개 이상의 feature 를 조합하여 새로운 feature 를 만들 수도 있습니다 ⭐\n",
        "\n",
        "예를 들면, `sibsp` 와 `parch` 를 합쳐서 solo 라는 항목을 만들 수 있습니다.  \n",
        "\n",
        "혼자 왔다면 `solo = 1`, 아니라면 `solo = 0` 을 만들어 줍시다. "
      ]
    },
    {
      "cell_type": "code",
      "metadata": {
        "id": "Gbf2LC6oYcy9"
      },
      "source": [
        "titanic['solo'] = ???     # 혼자이면 True를 반환, 누군가와 함께 왔으면 False를 반환"
      ],
      "execution_count": null,
      "outputs": []
    },
    {
      "cell_type": "code",
      "metadata": {
        "id": "nye6DGqi-xNc"
      },
      "source": [
        "titanic['solo'] = titanic['solo']\n",
        "titanic.head()           "
      ],
      "execution_count": null,
      "outputs": []
    },
    {
      "cell_type": "code",
      "metadata": {
        "id": "jP9wXjaW-Hiz"
      },
      "source": [
        "# 참고 : True 값은 숫자로 1, False는 숫자로 0 입니다.\n",
        "num_True = True + 2\n",
        "num_False = False + 2\n",
        "print(num_True)\n",
        "print(num_False)"
      ],
      "execution_count": null,
      "outputs": []
    },
    {
      "cell_type": "markdown",
      "metadata": {
        "id": "IIQ7kboReiHR"
      },
      "source": [
        "> 이제 필요 없는 항목인 `sibsp` 와  `parch`를 `drop()` 하세요"
      ]
    },
    {
      "cell_type": "code",
      "metadata": {
        "id": "FJL5vJ7_elo4"
      },
      "source": [
        "titanic.???\n",
        "titanic"
      ],
      "execution_count": null,
      "outputs": []
    },
    {
      "cell_type": "markdown",
      "metadata": {
        "id": "RCx05wFFspmC"
      },
      "source": [
        "### 3️⃣**Step3-3. 범주형 특성 변환하기**\n",
        "\n",
        "> 모든 항목이 numeric 한지 마지막으로 확인해 봅시다. \n",
        "- `데이터셋.info()` "
      ]
    },
    {
      "cell_type": "code",
      "metadata": {
        "id": "3Kad2roTsxcS"
      },
      "source": [
        "titanic.info()"
      ],
      "execution_count": null,
      "outputs": []
    },
    {
      "cell_type": "markdown",
      "metadata": {
        "id": "bo4AuIlTrn3X"
      },
      "source": [
        "> 🔍 `map` 또는 `labelencoder` 을 이용해 title 을 numerical 하게 바꾼 후에, name 항목을 drop 하기\n",
        " - ① 먼저 title 안에 어떤 값이 있는지 확인 - `데이터셋.title.unique()`\n",
        " - ② 중복되는 표현을 통일 - `데이터열.replace('이전', '이후')`\n",
        " - ③ numerical 데이터로 인코딩\n",
        " - ④ name 항목 드랍"
      ]
    },
    {
      "cell_type": "code",
      "metadata": {
        "id": "8T2D8W6db1P4"
      },
      "source": [
        "# ① title 안에 어떤 값들이 있는지 확인\n",
        "titanic.???"
      ],
      "execution_count": null,
      "outputs": []
    },
    {
      "cell_type": "code",
      "metadata": {
        "id": "KjunzfE4i12X"
      },
      "source": [
        "# ② 중복되는 표현 통일\n",
        "# 개체수가 적은/잘못 추출된 것들은 Other로 통일 / Mlle과 Miss / Mme과 Mrs / Ms와 Miss\n",
        "titanic['title'] = titanic['title'].replace( ['Capt', 'Col', 'L', 'Countess', 'Don','Dona', 'Dr', 'Jonkheer', 'Lady','Major', 'Rev', 'Sir'], 'Other')\n",
        "titanic['title'] = titanic['title'].???\n",
        "titanic['title'] = titanic['title'].???\n",
        "titanic['title'] = titanic['title'].???"
      ],
      "execution_count": null,
      "outputs": []
    },
    {
      "cell_type": "code",
      "metadata": {
        "id": "x8zfahAzlB2N"
      },
      "source": [
        "titanic.title.unique() # 이제 다시 한번 어떤 값들이 있는지 확인"
      ],
      "execution_count": null,
      "outputs": []
    },
    {
      "cell_type": "markdown",
      "metadata": {
        "id": "CcryigielChT"
      },
      "source": [
        "> 😱 이제 title 열 안에 5 종류의 값밖에 남아있지 않을 것을 확인할 수 있을 것입니다"
      ]
    },
    {
      "cell_type": "code",
      "metadata": {
        "id": "SSddY8v6PCz9"
      },
      "source": [
        "# ③ numerical 데이터로 인코딩(LabelEncoder 사용)\n",
        "from sklearn.preprocessing import LabelEncoder    # LabelEncoder를 불러오기\n",
        "encoder = ???       # encoder라는 변수를 선언\n",
        "encoder.???         # title 열에 맞게 인코딩\n",
        "titanic['title'] = ???  # 인코딩 결과를 실제 행에 적용\n",
        "titanic.head()"
      ],
      "execution_count": null,
      "outputs": []
    },
    {
      "cell_type": "code",
      "metadata": {
        "id": "46lxVLSXbwgv"
      },
      "source": [
        "# (참고) inverse transform 을 이용하면 역으로 원래 문자열 데이터를 알 수 있습니다. \n",
        "encoder.inverse_transform([1])"
      ],
      "execution_count": null,
      "outputs": []
    },
    {
      "cell_type": "markdown",
      "metadata": {
        "id": "fQk8NL_bvoHj"
      },
      "source": [
        "> 🔍 `sex` 항목도 numeric 으로 변환해주세요"
      ]
    },
    {
      "cell_type": "code",
      "metadata": {
        "id": "lPPg2TFBvs7I"
      },
      "source": [
        "# map 함수 사용\n",
        "genders = ???\n",
        "titanic['sex'] = ???\n",
        "titanic.head()"
      ],
      "execution_count": null,
      "outputs": []
    },
    {
      "cell_type": "markdown",
      "metadata": {
        "id": "hFKL5NSQN83W"
      },
      "source": [
        "> 🔍`embarked` 항목도 변환해보겠습니다"
      ]
    },
    {
      "cell_type": "code",
      "metadata": {
        "id": "wppCg6YdCMd_"
      },
      "source": [
        "encoder_emb = LabelEncoder()\n",
        "encoder_emb.fit(titanic['embarked'])\n",
        "titanic['embarked'] = ??? \n",
        "titanic.head()"
      ],
      "execution_count": null,
      "outputs": []
    },
    {
      "cell_type": "markdown",
      "metadata": {
        "id": "tkvKlooft_5-"
      },
      "source": [
        "> age_band열을 범주형으로 바꾸어줍시다."
      ]
    },
    {
      "cell_type": "code",
      "metadata": {
        "id": "_ySHi2zqMGXR"
      },
      "source": [
        "encoder_age = LabelEncoder()\n",
        "encoder_age.fit(titanic['age_band'])\n",
        "titanic['age_band'] = ???\n",
        "titanic.head()"
      ],
      "execution_count": null,
      "outputs": []
    },
    {
      "cell_type": "markdown",
      "metadata": {
        "id": "7HatWPlLRxrT"
      },
      "source": [
        "💥 자!! 예비 데이터 사이언티스트 여러분! 이제 데이터셋을 모델에 넣을 준비가 다 되었습니다 (드디어 ㅠㅠ)\n"
      ]
    },
    {
      "cell_type": "markdown",
      "metadata": {
        "id": "zS6Dt15L5kBm"
      },
      "source": [
        "## 📌 **Step4. scikit-learn 모형 훈련하기**\n",
        "\n",
        "데이터 전처리와 모델에 사용하기 위해서 각종 전처리 방법을 배우고 실습해 보았습니다. \n",
        "\n",
        "실제 전처리가 모델에 성능에 어떤 영향을 미치는지 확인해 봅시다.\n",
        "\n",
        "`scores(x,y)` 함수는 x 에 features 를, y 에 예측하고자 하는 output 을 넣어주면\n",
        "4개의 모델 \n",
        "\n",
        "**logistic regression, SVM, KNN, Random Forest** 로 훈련한 정확도를 보여줍니다. \n",
        "\n",
        "위의 모델에 대해서 일부를 나중에 더 자세히 배우고, 현재는 이 `scores()` 함수를 이용해 타이타닉 데이터셋에 대하여 \n",
        "\n",
        "어느 정도의 성능이 나오는지만 확인해 보겠습니다.  \n",
        "\n",
        "\n",
        "\n",
        "\n"
      ]
    },
    {
      "cell_type": "markdown",
      "metadata": {
        "id": "_LzpAYdaGNQ7"
      },
      "source": [
        "<img src=\"https://1.bp.blogspot.com/-C-XS0D36Ubs/XtMOZBnyLLI/AAAAAAAAAZI/6Nen2thHlnUUipI0njEZyOvBXh_A20eJQCLcBGAsYHQ/s1600/%25E1%2584%2589%25E1%2585%25B3%25E1%2584%258F%25E1%2585%25B3%25E1%2584%2585%25E1%2585%25B5%25E1%2586%25AB%25E1%2584%2589%25E1%2585%25A3%25E1%2586%25BA%2B2020-05-31%2B%25E1%2584%258B%25E1%2585%25A9%25E1%2584%258C%25E1%2585%25A5%25E1%2586%25AB%2B10.50.44.png\" border=\"0\" width = \"800\">"
      ]
    },
    {
      "cell_type": "markdown",
      "metadata": {
        "id": "VDGKgym_tHbu"
      },
      "source": [
        "> 📂필요한 패키지 불러오기"
      ]
    },
    {
      "cell_type": "code",
      "metadata": {
        "id": "pwmGvBgxN5gZ"
      },
      "source": [
        "# 4강에서 배울 모델들이 포함되어있습니다. 일단 실행만 시켜줍니다!\n",
        "from sklearn.linear_model import LogisticRegression    \n",
        "from sklearn.model_selection import train_test_split   # 데이터 분리를 위한 함수"
      ],
      "execution_count": null,
      "outputs": []
    },
    {
      "cell_type": "markdown",
      "metadata": {
        "id": "5ekd7V0FkZES"
      },
      "source": [
        "> ⛹️‍♀️⛹⛹️‍♂️ 한번 모형을 훈련 해볼까요? "
      ]
    },
    {
      "cell_type": "code",
      "metadata": {
        "id": "czaEJgTiPLPt"
      },
      "source": [
        "# 일단 실행만 해보세요!\n",
        "X = titanic.drop('survived', axis=1)\n",
        "y = titanic['survived']\n",
        "\n",
        "X_train, X_test, y_train, y_test = \\\n",
        " train_test_split(X, y, test_size=0.3, random_state=123)\n",
        "\n",
        "titanic_model = LogisticRegression(max_iter=1000)\n",
        "titanic_model.fit(X_train, y_train)"
      ],
      "execution_count": null,
      "outputs": []
    },
    {
      "cell_type": "markdown",
      "metadata": {
        "id": "kokz1vsIPVV_"
      },
      "source": [
        "오옷 돌아갑니다. 🤩 "
      ]
    },
    {
      "cell_type": "markdown",
      "metadata": {
        "id": "Nd8-dHHjFkBs"
      },
      "source": [
        "## 📌 **Step5. 피드백**"
      ]
    },
    {
      "cell_type": "markdown",
      "metadata": {
        "id": "Yi-yemGdGPW4"
      },
      "source": [
        "<img src=\"https://1.bp.blogspot.com/-C-XS0D36Ubs/XtMOZBnyLLI/AAAAAAAAAZI/6Nen2thHlnUUipI0njEZyOvBXh_A20eJQCLcBGAsYHQ/s1600/%25E1%2584%2589%25E1%2585%25B3%25E1%2584%258F%25E1%2585%25B3%25E1%2584%2585%25E1%2585%25B5%25E1%2586%25AB%25E1%2584%2589%25E1%2585%25A3%25E1%2586%25BA%2B2020-05-31%2B%25E1%2584%258B%25E1%2585%25A9%25E1%2584%258C%25E1%2585%25A5%25E1%2586%25AB%2B10.50.44.png\" border=\"0\" width = \"800\">"
      ]
    },
    {
      "cell_type": "markdown",
      "metadata": {
        "id": "_Pq_mel8QM02"
      },
      "source": [
        "모형의 성능을 확인해보겠습니다. \n",
        "\n",
        "test set으로 정확도(accuracy)를 확인해보겠습니다."
      ]
    },
    {
      "cell_type": "code",
      "metadata": {
        "id": "8NikzuInfMi2"
      },
      "source": [
        "y_pred = titanic_model.predict(X_test)"
      ],
      "execution_count": null,
      "outputs": []
    },
    {
      "cell_type": "code",
      "metadata": {
        "id": "5BZ8Eu9xQZxt"
      },
      "source": [
        "y_pred == y_test"
      ],
      "execution_count": null,
      "outputs": []
    },
    {
      "cell_type": "code",
      "metadata": {
        "id": "0DNCqFC0QbiW"
      },
      "source": [
        "(y_pred == y_test).mean()"
      ],
      "execution_count": null,
      "outputs": []
    },
    {
      "cell_type": "markdown",
      "metadata": {
        "id": "iSK6DsHwkcjN"
      },
      "source": [
        "랜덤하게 초기화하는 작업이 일부 있기 때문에 정확도의 차이가 조금은 있을 수 있습니다.  \n",
        "🤭 현재 우리의 모델은 약 80% 정도의 정확도로 생존을 예측하네요.\n",
        "\n",
        "어떤가요? 여러분은 만족하시나요?\n",
        "\n",
        "> Quiz: 모형의 성능을 개선할 수 있는 방향을 고민해보세요!"
      ]
    },
    {
      "cell_type": "markdown",
      "metadata": {
        "id": "ga5kEkQdF17v"
      },
      "source": [
        "### 📌 Step6. 배포, 모니터링, 유지 보수\n",
        "\n",
        "80% 정도의 정확도면 쓸만한 것 같습니다!\n",
        "\n",
        "우리가 만든 모형을 실제로 사용해본다고 생각해보겠습니다!"
      ]
    },
    {
      "cell_type": "markdown",
      "metadata": {
        "id": "EQ7nkQNCgeRn"
      },
      "source": [
        "[링크 : 타이타닉 실존 인물들 데이터](https://www.encyclopedia-titanica.org/titanic-survivors/) 👈👈 **눌러서 확인해보세요!!**\n",
        "\n",
        "</br>\n",
        "\n",
        "우리의 모델을 테스트해보기 위해서 위의 링크에서 실존했던 인물들의 데이터를 사용해 보겠습니다. \n",
        "\n",
        "맨 위의 생존자분은 ABBOTT, Mrs Rhoda Mary 'Rosa'\t39\t3rd Class Passenger 이네요\n",
        "\n",
        "눌러보면 가족과 함께 Southhampton 에서 탑승했고 티켓값은 20.5 였던 것을 확인 할 수 있습니다. "
      ]
    },
    {
      "cell_type": "code",
      "metadata": {
        "id": "OmzMaMkTQslb"
      },
      "source": [
        "titanic.drop('survived', axis=1).head()"
      ],
      "execution_count": null,
      "outputs": []
    },
    {
      "cell_type": "markdown",
      "metadata": {
        "id": "BuPDN9wCsah7"
      },
      "source": [
        "> 다음의 🤖함수는 하나의 특정 데이터를 입력하고, 그 데이터에 대한 생존 확률을 구해주는 기능을 합니다 \n",
        "  \n",
        ">>① `predict_survival_prob(model,x)` 라는 함수를 정의  \n",
        "② `모델변수.predict_proba(x) `를 사용하여 특정 데이터에 대한 생존 확률 출력"
      ]
    },
    {
      "cell_type": "code",
      "metadata": {
        "id": "ktqvMVHzsf6Y"
      },
      "source": [
        "def predict_survival_prob(model, x):\n",
        "  print('---'*5 + 'printing survival probablity')\n",
        "  print('By Logistic Regression probablity of survival ', np.round(model.predict_proba(x)[:,1]*100,2))\n",
        "  print('---'*5)"
      ],
      "execution_count": null,
      "outputs": []
    },
    {
      "cell_type": "code",
      "metadata": {
        "id": "mzjtYrI3x6q7"
      },
      "source": [
        "encoder_age.inverse_transform([0,1,2,3,4])"
      ],
      "execution_count": null,
      "outputs": []
    },
    {
      "cell_type": "code",
      "metadata": {
        "id": "6mcIVWY2gSOx"
      },
      "source": [
        "test_input = [[3, \n",
        "               1, \n",
        "               20, \n",
        "               encoder_emb.transform(['S'])[0], \n",
        "               encoder.transform(['Mrs'])[0],\n",
        "               2,\n",
        "               0]]\n",
        "#3등석, 여자(1), 20 유로(운임료), embarked(southhampton), Mrs 칭호, 39세(age_band: 2),  solo x\n",
        "\n",
        "predict_survival_prob(titanic_model, test_input)"
      ],
      "execution_count": null,
      "outputs": []
    },
    {
      "cell_type": "markdown",
      "metadata": {
        "id": "3hlfaWpmjWOQ"
      },
      "source": [
        "'Mr.Henry Anderson' 는 어떨까요? "
      ]
    },
    {
      "cell_type": "code",
      "metadata": {
        "id": "AgHzxgVdRheD"
      },
      "source": [
        "encoder.transform(['Mr'])   # 칭호의 지정 number 확인하기 "
      ],
      "execution_count": null,
      "outputs": []
    },
    {
      "cell_type": "code",
      "metadata": {
        "id": "qr9JhFSEjHbS"
      },
      "source": [
        "test_input = [[1, \n",
        "               0, \n",
        "               25, \n",
        "               encoder_emb.transform(['S'])[0], \n",
        "               encoder.transform(['Mr'])[0], \n",
        "               2, \n",
        "               1]]\n",
        "# 1등석 , 남자(0), 25 유로(운임료), embarked(southhampton), Mr 칭호, 42세(age_band 2) , solo o\n",
        "predict_survival_prob(titanic_model, test_input)"
      ],
      "execution_count": null,
      "outputs": []
    },
    {
      "cell_type": "markdown",
      "metadata": {
        "id": "iPN3WH9Jk38Z"
      },
      "source": [
        "> 🔍 한번 본인의 데이터, 본인의 나이 이름 등을 넣어서 생존율을 출력해보세요~"
      ]
    },
    {
      "cell_type": "code",
      "metadata": {
        "id": "5jN2MJXKEpRT"
      },
      "source": [
        "encoder.transform(['??'])"
      ],
      "execution_count": null,
      "outputs": []
    },
    {
      "cell_type": "code",
      "metadata": {
        "id": "0gLKJAObJjbp"
      },
      "source": [
        "my_input = [[?, ?, ?, ?, ?, ?, ?]]\n",
        "# 등석 , 성별(0: 남성), 운임료, embarked, 칭호, age_band, solo 여부\n",
        "predict_survival_prob(titanic_model, my_input)"
      ],
      "execution_count": null,
      "outputs": []
    },
    {
      "cell_type": "markdown",
      "metadata": {
        "id": "o27DzFieeBsn"
      },
      "source": [
        "# 💕 오늘도 고생하셨습니다 💕\n",
        "\n",
        "데이터 다이빙 여러분의 📃이력서에\n",
        "\n",
        "\" **Tech Stack.**   Python for data analysis \"\n",
        "\n",
        "이라고 쓸 수 있는 그 날까지 앞으로 얼마 남지 않았습니다.  \n",
        "\n",
        "물론 쉽지 않겠지만 🧜‍♀️데이터 다이빙 🧜‍♂️에서 도와드리겠습니다! 😊다음주에 뵈어요~\n",
        "\n"
      ]
    }
  ]
}